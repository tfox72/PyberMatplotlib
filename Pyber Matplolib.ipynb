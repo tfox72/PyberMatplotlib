{
 "cells": [
  {
   "cell_type": "markdown",
   "metadata": {},
   "source": [
    "## Option 1: Pyber\n",
    "\n",
    "![Ride](Images/Ride.png)\n",
    "\n",
    "The ride sharing bonanza continues! Seeing the success of notable players like Uber and Lyft, you've decided to join a fledgling ride sharing company of your own. In your latest capacity, you'll be acting as Chief Data Strategist for the company. In this role, you'll be expected to offer data-backed guidance on new opportunities for market differentiation.\n",
    "\n",
    "You've since been given access to the company's complete recordset of rides. This contains information about every active driver and historic ride, including details like city, driver count, individual fares, and city type.\n",
    "\n",
    "Your objective is to build a [Bubble Plot](https://en.wikipedia.org/wiki/Bubble_chart) that showcases the relationship between four key variables:\n",
    "\n",
    "* Average Fare ($) Per City\n",
    "* Total Number of Rides Per City\n",
    "* Total Number of Drivers Per City\n",
    "* City Type (Urban, Suburban, Rural)\n",
    "\n",
    "In addition, you will be expected to produce the following three pie charts:\n",
    "\n",
    "* % of Total Fares by City Type\n",
    "* % of Total Rides by City Type\n",
    "* % of Total Drivers by City Type\n",
    "\n",
    "As final considerations:\n",
    "\n",
    "* You must use the Pandas Library and the Jupyter Notebook.\n",
    "* You must use the Matplotlib and Seaborn libraries.\n",
    "* You must include a written description of three observable trends based on the data.\n",
    "* You must use proper labeling of your plots, including aspects like: Plot Titles, Axes Labels, Legend Labels, Wedge Percentages, and Wedge Labels.\n",
    "* Remember when making your plots to consider aesthetics!\n",
    "  * You must stick to the Pyber color scheme (Gold, Light Sky Blue, and Light Coral) in producing your plot and pie charts.\n",
    "  * When making your Bubble Plot, experiment with effects like `alpha`, `edgecolor`, and `linewidths`.\n",
    "  * When making your Pie Chart, experiment with effects like `shadow`, `startangle`, and `explosion`.\n",
    "* You must include an exported markdown version of your Notebook called  `README.md` in your GitHub repository.\n",
    "* See [Example Solution](Pyber/Pyber_Example.pdf) for a reference on expected format."
   ]
  },
  {
   "cell_type": "code",
   "execution_count": 234,
   "metadata": {
    "collapsed": true
   },
   "outputs": [],
   "source": [
    "import pandas as pd\n",
    "import numpy as np\n",
    "import seaborn as sb\n",
    "import matplotlib.pyplot as plt\n"
   ]
  },
  {
   "cell_type": "code",
   "execution_count": 235,
   "metadata": {
    "collapsed": true
   },
   "outputs": [],
   "source": [
    "city_df =  pd.read_csv('city_data.csv')\n",
    "ride_df =  pd.read_csv('ride_data.csv')"
   ]
  },
  {
   "cell_type": "code",
   "execution_count": 236,
   "metadata": {},
   "outputs": [
    {
     "data": {
      "text/html": [
       "<div>\n",
       "<style>\n",
       "    .dataframe thead tr:only-child th {\n",
       "        text-align: right;\n",
       "    }\n",
       "\n",
       "    .dataframe thead th {\n",
       "        text-align: left;\n",
       "    }\n",
       "\n",
       "    .dataframe tbody tr th {\n",
       "        vertical-align: top;\n",
       "    }\n",
       "</style>\n",
       "<table border=\"1\" class=\"dataframe\">\n",
       "  <thead>\n",
       "    <tr style=\"text-align: right;\">\n",
       "      <th></th>\n",
       "      <th>city</th>\n",
       "      <th>driver_count</th>\n",
       "      <th>type</th>\n",
       "    </tr>\n",
       "  </thead>\n",
       "  <tbody>\n",
       "    <tr>\n",
       "      <th>0</th>\n",
       "      <td>Kelseyland</td>\n",
       "      <td>63</td>\n",
       "      <td>Urban</td>\n",
       "    </tr>\n",
       "    <tr>\n",
       "      <th>1</th>\n",
       "      <td>Nguyenbury</td>\n",
       "      <td>8</td>\n",
       "      <td>Urban</td>\n",
       "    </tr>\n",
       "    <tr>\n",
       "      <th>2</th>\n",
       "      <td>East Douglas</td>\n",
       "      <td>12</td>\n",
       "      <td>Urban</td>\n",
       "    </tr>\n",
       "    <tr>\n",
       "      <th>3</th>\n",
       "      <td>West Dawnfurt</td>\n",
       "      <td>34</td>\n",
       "      <td>Urban</td>\n",
       "    </tr>\n",
       "    <tr>\n",
       "      <th>4</th>\n",
       "      <td>Rodriguezburgh</td>\n",
       "      <td>52</td>\n",
       "      <td>Urban</td>\n",
       "    </tr>\n",
       "  </tbody>\n",
       "</table>\n",
       "</div>"
      ],
      "text/plain": [
       "             city  driver_count   type\n",
       "0      Kelseyland            63  Urban\n",
       "1      Nguyenbury             8  Urban\n",
       "2    East Douglas            12  Urban\n",
       "3   West Dawnfurt            34  Urban\n",
       "4  Rodriguezburgh            52  Urban"
      ]
     },
     "execution_count": 236,
     "metadata": {},
     "output_type": "execute_result"
    }
   ],
   "source": [
    "city_df.head()"
   ]
  },
  {
   "cell_type": "code",
   "execution_count": 237,
   "metadata": {
    "collapsed": true
   },
   "outputs": [],
   "source": [
    "citytype= city_df.drop_duplicates('city')"
   ]
  },
  {
   "cell_type": "code",
   "execution_count": 238,
   "metadata": {},
   "outputs": [
    {
     "data": {
      "text/html": [
       "<div>\n",
       "<style>\n",
       "    .dataframe thead tr:only-child th {\n",
       "        text-align: right;\n",
       "    }\n",
       "\n",
       "    .dataframe thead th {\n",
       "        text-align: left;\n",
       "    }\n",
       "\n",
       "    .dataframe tbody tr th {\n",
       "        vertical-align: top;\n",
       "    }\n",
       "</style>\n",
       "<table border=\"1\" class=\"dataframe\">\n",
       "  <thead>\n",
       "    <tr style=\"text-align: right;\">\n",
       "      <th></th>\n",
       "      <th>city</th>\n",
       "      <th>date</th>\n",
       "      <th>fare</th>\n",
       "      <th>ride_id</th>\n",
       "    </tr>\n",
       "  </thead>\n",
       "  <tbody>\n",
       "    <tr>\n",
       "      <th>0</th>\n",
       "      <td>Sarabury</td>\n",
       "      <td>2016-01-16 13:49:27</td>\n",
       "      <td>38.35</td>\n",
       "      <td>5403689035038</td>\n",
       "    </tr>\n",
       "    <tr>\n",
       "      <th>1</th>\n",
       "      <td>South Roy</td>\n",
       "      <td>2016-01-02 18:42:34</td>\n",
       "      <td>17.49</td>\n",
       "      <td>4036272335942</td>\n",
       "    </tr>\n",
       "    <tr>\n",
       "      <th>2</th>\n",
       "      <td>Wiseborough</td>\n",
       "      <td>2016-01-21 17:35:29</td>\n",
       "      <td>44.18</td>\n",
       "      <td>3645042422587</td>\n",
       "    </tr>\n",
       "    <tr>\n",
       "      <th>3</th>\n",
       "      <td>Spencertown</td>\n",
       "      <td>2016-07-31 14:53:22</td>\n",
       "      <td>6.87</td>\n",
       "      <td>2242596575892</td>\n",
       "    </tr>\n",
       "    <tr>\n",
       "      <th>4</th>\n",
       "      <td>Nguyenbury</td>\n",
       "      <td>2016-07-09 04:42:44</td>\n",
       "      <td>6.28</td>\n",
       "      <td>1543057793673</td>\n",
       "    </tr>\n",
       "  </tbody>\n",
       "</table>\n",
       "</div>"
      ],
      "text/plain": [
       "          city                 date   fare        ride_id\n",
       "0     Sarabury  2016-01-16 13:49:27  38.35  5403689035038\n",
       "1    South Roy  2016-01-02 18:42:34  17.49  4036272335942\n",
       "2  Wiseborough  2016-01-21 17:35:29  44.18  3645042422587\n",
       "3  Spencertown  2016-07-31 14:53:22   6.87  2242596575892\n",
       "4   Nguyenbury  2016-07-09 04:42:44   6.28  1543057793673"
      ]
     },
     "execution_count": 238,
     "metadata": {},
     "output_type": "execute_result"
    }
   ],
   "source": [
    "ride_df.head()"
   ]
  },
  {
   "cell_type": "code",
   "execution_count": 239,
   "metadata": {},
   "outputs": [
    {
     "data": {
      "text/html": [
       "<div>\n",
       "<style>\n",
       "    .dataframe thead tr:only-child th {\n",
       "        text-align: right;\n",
       "    }\n",
       "\n",
       "    .dataframe thead th {\n",
       "        text-align: left;\n",
       "    }\n",
       "\n",
       "    .dataframe tbody tr th {\n",
       "        vertical-align: top;\n",
       "    }\n",
       "</style>\n",
       "<table border=\"1\" class=\"dataframe\">\n",
       "  <thead>\n",
       "    <tr style=\"text-align: right;\">\n",
       "      <th></th>\n",
       "      <th>city</th>\n",
       "      <th>date</th>\n",
       "      <th>fare</th>\n",
       "      <th>ride_id</th>\n",
       "      <th>driver_count</th>\n",
       "      <th>type</th>\n",
       "    </tr>\n",
       "  </thead>\n",
       "  <tbody>\n",
       "    <tr>\n",
       "      <th>0</th>\n",
       "      <td>Sarabury</td>\n",
       "      <td>2016-01-16 13:49:27</td>\n",
       "      <td>38.35</td>\n",
       "      <td>5403689035038</td>\n",
       "      <td>46</td>\n",
       "      <td>Urban</td>\n",
       "    </tr>\n",
       "    <tr>\n",
       "      <th>1</th>\n",
       "      <td>Sarabury</td>\n",
       "      <td>2016-07-23 07:42:44</td>\n",
       "      <td>21.76</td>\n",
       "      <td>7546681945283</td>\n",
       "      <td>46</td>\n",
       "      <td>Urban</td>\n",
       "    </tr>\n",
       "    <tr>\n",
       "      <th>2</th>\n",
       "      <td>Sarabury</td>\n",
       "      <td>2016-04-02 04:32:25</td>\n",
       "      <td>38.03</td>\n",
       "      <td>4932495851866</td>\n",
       "      <td>46</td>\n",
       "      <td>Urban</td>\n",
       "    </tr>\n",
       "    <tr>\n",
       "      <th>3</th>\n",
       "      <td>Sarabury</td>\n",
       "      <td>2016-06-23 05:03:41</td>\n",
       "      <td>26.82</td>\n",
       "      <td>6711035373406</td>\n",
       "      <td>46</td>\n",
       "      <td>Urban</td>\n",
       "    </tr>\n",
       "    <tr>\n",
       "      <th>4</th>\n",
       "      <td>Sarabury</td>\n",
       "      <td>2016-09-30 12:48:34</td>\n",
       "      <td>30.30</td>\n",
       "      <td>6388737278232</td>\n",
       "      <td>46</td>\n",
       "      <td>Urban</td>\n",
       "    </tr>\n",
       "  </tbody>\n",
       "</table>\n",
       "</div>"
      ],
      "text/plain": [
       "       city                 date   fare        ride_id  driver_count   type\n",
       "0  Sarabury  2016-01-16 13:49:27  38.35  5403689035038            46  Urban\n",
       "1  Sarabury  2016-07-23 07:42:44  21.76  7546681945283            46  Urban\n",
       "2  Sarabury  2016-04-02 04:32:25  38.03  4932495851866            46  Urban\n",
       "3  Sarabury  2016-06-23 05:03:41  26.82  6711035373406            46  Urban\n",
       "4  Sarabury  2016-09-30 12:48:34  30.30  6388737278232            46  Urban"
      ]
     },
     "execution_count": 239,
     "metadata": {},
     "output_type": "execute_result"
    }
   ],
   "source": [
    "merge_df = ride_df.merge(city_df, on=\"city\")\n",
    "merge_df.head()"
   ]
  },
  {
   "cell_type": "code",
   "execution_count": 240,
   "metadata": {
    "collapsed": true
   },
   "outputs": [],
   "source": [
    "GroupedCity = merge_df.groupby(['city'])"
   ]
  },
  {
   "cell_type": "code",
   "execution_count": 241,
   "metadata": {},
   "outputs": [
    {
     "data": {
      "text/plain": [
       "city             object\n",
       "date             object\n",
       "fare            float64\n",
       "ride_id           int64\n",
       "driver_count      int64\n",
       "type             object\n",
       "dtype: object"
      ]
     },
     "execution_count": 241,
     "metadata": {},
     "output_type": "execute_result"
    }
   ],
   "source": [
    "merge_df.dtypes"
   ]
  },
  {
   "cell_type": "code",
   "execution_count": 216,
   "metadata": {
    "collapsed": true
   },
   "outputs": [],
   "source": [
    "#Average Fare ($) Per City\n",
    "AvgFare = GroupedCity['fare'].mean()\n",
    "\n",
    "#Total Number of Rides Per City\n",
    "RidesByCity = GroupedCity['ride_id'].count()\n",
    "\n",
    "#Total Number of Drivers Per City\n",
    "DriversByCity = GroupedCity['driver_count'].mean()\n",
    "\n"
   ]
  },
  {
   "cell_type": "code",
   "execution_count": 217,
   "metadata": {
    "collapsed": true
   },
   "outputs": [],
   "source": [
    "#City Type (Urban, Suburban, Rural)\n",
    "citytype2 = citytype.set_index('city')['type']\n"
   ]
  },
  {
   "cell_type": "code",
   "execution_count": 218,
   "metadata": {},
   "outputs": [
    {
     "data": {
      "text/html": [
       "<div>\n",
       "<style>\n",
       "    .dataframe thead tr:only-child th {\n",
       "        text-align: right;\n",
       "    }\n",
       "\n",
       "    .dataframe thead th {\n",
       "        text-align: left;\n",
       "    }\n",
       "\n",
       "    .dataframe tbody tr th {\n",
       "        vertical-align: top;\n",
       "    }\n",
       "</style>\n",
       "<table border=\"1\" class=\"dataframe\">\n",
       "  <thead>\n",
       "    <tr style=\"text-align: right;\">\n",
       "      <th></th>\n",
       "      <th>Average Fare</th>\n",
       "      <th>Number of Drivers</th>\n",
       "      <th>Number of Rides</th>\n",
       "      <th>Type of City</th>\n",
       "    </tr>\n",
       "  </thead>\n",
       "  <tbody>\n",
       "    <tr>\n",
       "      <th>Alvarezhaven</th>\n",
       "      <td>23.928710</td>\n",
       "      <td>21</td>\n",
       "      <td>31</td>\n",
       "      <td>Urban</td>\n",
       "    </tr>\n",
       "    <tr>\n",
       "      <th>Alyssaberg</th>\n",
       "      <td>20.609615</td>\n",
       "      <td>67</td>\n",
       "      <td>26</td>\n",
       "      <td>Urban</td>\n",
       "    </tr>\n",
       "    <tr>\n",
       "      <th>Anitamouth</th>\n",
       "      <td>37.315556</td>\n",
       "      <td>16</td>\n",
       "      <td>9</td>\n",
       "      <td>Suburban</td>\n",
       "    </tr>\n",
       "    <tr>\n",
       "      <th>Antoniomouth</th>\n",
       "      <td>23.625000</td>\n",
       "      <td>21</td>\n",
       "      <td>22</td>\n",
       "      <td>Urban</td>\n",
       "    </tr>\n",
       "    <tr>\n",
       "      <th>Aprilchester</th>\n",
       "      <td>21.981579</td>\n",
       "      <td>49</td>\n",
       "      <td>19</td>\n",
       "      <td>Urban</td>\n",
       "    </tr>\n",
       "  </tbody>\n",
       "</table>\n",
       "</div>"
      ],
      "text/plain": [
       "              Average Fare  Number of Drivers  Number of Rides Type of City\n",
       "Alvarezhaven     23.928710                 21               31        Urban\n",
       "Alyssaberg       20.609615                 67               26        Urban\n",
       "Anitamouth       37.315556                 16                9     Suburban\n",
       "Antoniomouth     23.625000                 21               22        Urban\n",
       "Aprilchester     21.981579                 49               19        Urban"
      ]
     },
     "execution_count": 218,
     "metadata": {},
     "output_type": "execute_result"
    }
   ],
   "source": [
    "city_df2 = pd.DataFrame({\n",
    "    \"Number of Rides\": RidesByCity,\n",
    "    \"Average Fare\": AvgFare,\n",
    "    \"Number of Drivers\": DriversByCity,\n",
    "    \"Type of City\": citytype2})\n",
    "\n",
    "city_df2.head()"
   ]
  },
  {
   "cell_type": "code",
   "execution_count": 219,
   "metadata": {},
   "outputs": [],
   "source": [
    "rural = city_df2.loc[city_df2['Type of City']=='Rural']\n",
    "urban = city_df2.loc[city_df2['Type of City']=='Urban']\n",
    "suburban = city_df2.loc[city_df2['Type of City']=='Suburban']"
   ]
  },
  {
   "cell_type": "code",
   "execution_count": 220,
   "metadata": {},
   "outputs": [
    {
     "data": {
      "image/png": "[encoded data removed]",
      "text/plain": [
       "<matplotlib.figure.Figure at 0x2eb47b0e390>"
      ]
     },
     "metadata": {},
     "output_type": "display_data"
    }
   ],
   "source": [
    "plt.scatter(rural['Number of Rides'],rural['Average Fare'],s=rural['Number of Drivers']*18, color = 'lightskyblue',edgecolor = 'black', label = 'Rural', alpha = .50)\n",
    "plt.scatter(suburban['Number of Rides'],suburban['Average Fare'],s=suburban['Number of Drivers']*18, color = 'gold',edgecolor = 'black', label = \"Suburban\", alpha = .50)\n",
    "plt.scatter(urban['Number of Rides'],urban['Average Fare'],s=urban['Number of Drivers']*18, color = 'lightcoral',edgecolor = 'black', label = \"Urban\", alpha = .50)\n",
    "plt.title(\"Pyber Ride Sharing Data (2016)\")\n",
    "plt.xlabel(\"Number of Rides (Per City)\")\n",
    "plt.ylabel(\"Average Fare ($)\")\n",
    "plt.xlim(0,45)\n",
    "plt.legend(loc=\"best\")\n",
    "plt.show()"
   ]
  },
  {
   "cell_type": "code",
   "execution_count": 221,
   "metadata": {},
   "outputs": [
    {
     "name": "stdout",
     "output_type": "stream",
     "text": [
      "64669.11999999993 2407 3340\n"
     ]
    }
   ],
   "source": [
    "total_fares_amount = merge_df.fare.sum()\n",
    "total_rides_amount = merge_df.ride_id.count()\n",
    "total_drivers_amount = DriversByCity.sum()\n",
    "\n",
    "print(total_fares_amount, total_rides_amount, total_drivers_amount)\n"
   ]
  },
  {
   "cell_type": "code",
   "execution_count": 222,
   "metadata": {},
   "outputs": [
    {
     "name": "stdout",
     "output_type": "stream",
     "text": [
      "0.62 0.31 0.07 1.0\n"
     ]
    }
   ],
   "source": [
    "fare_urban = merge_df.fare[merge_df.type == 'Urban'].sum() \n",
    "fare_urban = round(fare_urban/total_fares_amount,2)\n",
    "\n",
    "fare_suburban = merge_df.fare[merge_df.type == 'Suburban'].sum() \n",
    "fare_suburban = round(fare_suburban/total_fares_amount,2)\n",
    "\n",
    "fare_rural = merge_df.fare[merge_df.type == 'Rural'].sum() \n",
    "fare_rural = round(fare_rural/total_fares_amount,2)\n",
    "\n",
    "check = fare_rural+fare_suburban+fare_urban\n",
    "\n",
    "print(fare_urban, fare_suburban, fare_rural,check)"
   ]
  },
  {
   "cell_type": "code",
   "execution_count": 223,
   "metadata": {},
   "outputs": [
    {
     "name": "stdout",
     "output_type": "stream",
     "text": [
      "0.68 0.27 0.05 1.0\n"
     ]
    }
   ],
   "source": [
    "ride_urban = merge_df.ride_id[merge_df.type == 'Urban'].count() \n",
    "ride_urban = round(ride_urban/total_rides_amount,2)\n",
    "\n",
    "ride_suburban = merge_df.ride_id[merge_df.type == 'Suburban'].count() \n",
    "ride_suburban = round(ride_suburban/total_rides_amount,2)\n",
    "\n",
    "ride_rural = merge_df.ride_id[merge_df.type == 'Rural'].count() \n",
    "ride_rural = round(ride_rural/total_rides_amount,2)\n",
    "\n",
    "check = ride_rural+ride_suburban+ride_urban\n",
    "\n",
    "print(ride_urban, ride_suburban, ride_rural,check)"
   ]
  },
  {
   "cell_type": "code",
   "execution_count": 224,
   "metadata": {},
   "outputs": [
    {
     "name": "stdout",
     "output_type": "stream",
     "text": [
      "0.78 0.19 0.03 1.0\n"
     ]
    }
   ],
   "source": [
    "driver_urban = city_df2['Number of Drivers'][city_df2['Type of City'] == 'Urban'].sum() \n",
    "driver_urban = round(driver_urban/total_drivers_amount,2)\n",
    "\n",
    "driver_suburban = city_df2['Number of Drivers'][city_df2['Type of City'] == 'Suburban'].sum() \n",
    "driver_suburban = round(driver_suburban/total_drivers_amount,2)\n",
    "\n",
    "driver_rural = city_df2['Number of Drivers'][city_df2['Type of City'] == 'Rural'].sum() \n",
    "driver_rural = round(driver_rural/total_drivers_amount,2)\n",
    "\n",
    "check = driver_rural+driver_suburban+driver_urban\n",
    "\n",
    "print(driver_urban, driver_suburban, driver_rural,check)"
   ]
  },
  {
   "cell_type": "code",
   "execution_count": 225,
   "metadata": {
    "collapsed": true
   },
   "outputs": [],
   "source": [
    "labels = ['Urban', 'Rural', 'Suburban']\n",
    "\n",
    "sizes = [fare_urban, fare_rural, fare_suburban]\n",
    "\n",
    "explode = (0.1, 0, 0)\n",
    "\n",
    "colors = [\"lightcoral\", \"lightskyblue\", \"gold\"]"
   ]
  },
  {
   "cell_type": "code",
   "execution_count": 226,
   "metadata": {},
   "outputs": [
    {
     "data": {
      "text/plain": [
       "(-1.1456387091881919,\n",
       " 1.1005397849713336,\n",
       " -1.2140675886608301,\n",
       " 1.1173372670127844)"
      ]
     },
     "execution_count": 226,
     "metadata": {},
     "output_type": "execute_result"
    }
   ],
   "source": [
    "plt.pie(sizes, explode=explode, labels=labels, colors=colors,\n",
    "        autopct=\"%1.1f%%\", shadow=True, startangle=140)\n",
    "plt.title('% of Total Fares by City')\n",
    "plt.axis('equal')"
   ]
  },
  {
   "cell_type": "code",
   "execution_count": 227,
   "metadata": {},
   "outputs": [
    {
     "data": {
      "image/png": "[encoded data removed]",
      "text/plain": [
       "<matplotlib.figure.Figure at 0x2eb47b2c048>"
      ]
     },
     "metadata": {},
     "output_type": "display_data"
    }
   ],
   "source": [
    "plt.show()"
   ]
  },
  {
   "cell_type": "code",
   "execution_count": 228,
   "metadata": {},
   "outputs": [],
   "source": [
    "labels = ['Urban', 'Rural', 'Suburban']\n",
    "\n",
    "sizes = [ride_urban, ride_rural, ride_suburban]\n",
    "\n",
    "explode = (0.1, 0, 0)\n",
    "\n",
    "colors = [\"lightcoral\", \"lightskyblue\", \"gold\"]"
   ]
  },
  {
   "cell_type": "code",
   "execution_count": 229,
   "metadata": {},
   "outputs": [
    {
     "data": {
      "text/plain": [
       "(-1.130485183549818,\n",
       " 1.1011915377523607,\n",
       " -1.2198803193310201,\n",
       " 1.1090278721325668)"
      ]
     },
     "execution_count": 229,
     "metadata": {},
     "output_type": "execute_result"
    }
   ],
   "source": [
    "plt.pie(sizes, explode=explode, labels=labels, colors=colors,\n",
    "        autopct=\"%1.1f%%\", shadow=True, startangle=140)\n",
    "plt.title('% of Rides by City')\n",
    "plt.axis('equal')"
   ]
  },
  {
   "cell_type": "code",
   "execution_count": 230,
   "metadata": {},
   "outputs": [
    {
     "data": {
      "image/png": "[encoded data removed]",
      "text/plain": [
       "<matplotlib.figure.Figure at 0x2eb47e23d30>"
      ]
     },
     "metadata": {},
     "output_type": "display_data"
    }
   ],
   "source": [
    "plt.show()"
   ]
  },
  {
   "cell_type": "code",
   "execution_count": 231,
   "metadata": {
    "collapsed": true
   },
   "outputs": [],
   "source": [
    "labels = ['Urban', 'Rural', 'Suburban']\n",
    "\n",
    "sizes = [driver_urban, driver_rural, driver_suburban]\n",
    "\n",
    "explode = (0.1, 0, 0)\n",
    "\n",
    "colors = [\"lightcoral\", \"lightskyblue\", \"gold\"]"
   ]
  },
  {
   "cell_type": "code",
   "execution_count": 232,
   "metadata": {},
   "outputs": [
    {
     "data": {
      "text/plain": [
       "(-1.0875059481447162,\n",
       " 1.1229292639553781,\n",
       " -1.2093192616231283,\n",
       " 1.1227970759532651)"
      ]
     },
     "execution_count": 232,
     "metadata": {},
     "output_type": "execute_result"
    }
   ],
   "source": [
    "plt.pie(sizes, explode=explode, labels=labels, colors=colors,\n",
    "        autopct=\"%1.1f%%\", shadow=True, startangle=140)\n",
    "plt.title('% of Drivers by City')\n",
    "plt.axis('equal')"
   ]
  },
  {
   "cell_type": "markdown",
   "metadata": {},
   "source": [
    "plt.show()"
   ]
  }
 ],
 "metadata": {
  "kernelspec": {
   "display_name": "Python [conda env:PythonData]",
   "language": "python",
   "name": "conda-env-PythonData-py"
  },
  "language_info": {
   "codemirror_mode": {
    "name": "ipython",
    "version": 3
   },
   "file_extension": ".py",
   "mimetype": "text/x-python",
   "name": "python",
   "nbconvert_exporter": "python",
   "pygments_lexer": "ipython3",
   "version": "3.6.1"
  }
 },
 "nbformat": 4,
 "nbformat_minor": 2
}
